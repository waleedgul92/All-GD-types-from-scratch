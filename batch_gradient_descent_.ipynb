{
  "nbformat": 4,
  "nbformat_minor": 0,
  "metadata": {
    "colab": {
      "provenance": []
    },
    "kernelspec": {
      "name": "python3",
      "display_name": "Python 3"
    },
    "language_info": {
      "name": "python"
    }
  },
  "cells": [
    {
      "cell_type": "code",
      "execution_count": 1,
      "metadata": {
        "id": "rzjX4yv0Wlcr"
      },
      "outputs": [],
      "source": [
        "from sklearn.datasets import load_diabetes\n",
        "\n",
        "import numpy as np\n",
        "from sklearn.linear_model import LinearRegression\n",
        "from sklearn.metrics import r2_score\n",
        "from sklearn.model_selection import train_test_split"
      ]
    },
    {
      "cell_type": "code",
      "source": [
        "class Batch_GD_Regressor:\n",
        "  def __init__(self,learning_rate=0.01,epochs=100):\n",
        "    self.coef_=None\n",
        "    self.intercept_=None\n",
        "    self.lr=learning_rate\n",
        "    self.epochs=epochs\n",
        "  def fit(self,X_train,y_train):\n",
        "    self.intercept_=0\n",
        "    self.coef_=np.ones(X_train.shape[1])\n",
        "    for i in range(self.epochs):\n",
        "      y_hat = np.dot(X_train,self.coef_) + self.intercept_\n",
        "      intercept_der = -2 * np.mean(y_train - y_hat)\n",
        "      self.intercept_ = self.intercept_ - (self.lr * intercept_der)\n",
        "\n",
        "      coef_der = -2 * np.dot((y_train - y_hat),X_train)/X_train.shape[0]\n",
        "      self.coef_ = self.coef_ - (self.lr * coef_der)\n",
        "\n",
        "\n",
        "  def predict(self,X_test):\n",
        "    return np.dot(X_test,self.coef_) + self.intercept_\n",
        "\n"
      ],
      "metadata": {
        "id": "_Y7ch16zXfJ7"
      },
      "execution_count": 31,
      "outputs": []
    },
    {
      "cell_type": "code",
      "source": [
        "X,y = load_diabetes(return_X_y=True)"
      ],
      "metadata": {
        "id": "Bzg6M2KaXXym"
      },
      "execution_count": 21,
      "outputs": []
    },
    {
      "cell_type": "code",
      "source": [
        "X_train,X_test,y_train,y_test = train_test_split(X,y,test_size=0.2,random_state=2)"
      ],
      "metadata": {
        "id": "rsB4DYSNXaPM"
      },
      "execution_count": 22,
      "outputs": []
    },
    {
      "cell_type": "code",
      "source": [],
      "metadata": {
        "id": "Byl5q85edQaq"
      },
      "execution_count": null,
      "outputs": []
    },
    {
      "cell_type": "code",
      "source": [
        "gdr = Batch_GD_Regressor(epochs=1000,learning_rate=0.5)"
      ],
      "metadata": {
        "id": "uU8opOUCb3D3"
      },
      "execution_count": 32,
      "outputs": []
    },
    {
      "cell_type": "code",
      "source": [
        "gdr.fit(X_train,y_train)"
      ],
      "metadata": {
        "id": "FhWS9aBLcDMb"
      },
      "execution_count": 33,
      "outputs": []
    },
    {
      "cell_type": "code",
      "source": [
        "y_pred = gdr.predict(X_test)"
      ],
      "metadata": {
        "id": "PlLgqv2CcSrX"
      },
      "execution_count": 34,
      "outputs": []
    },
    {
      "cell_type": "code",
      "source": [
        "y_pred"
      ],
      "metadata": {
        "colab": {
          "base_uri": "https://localhost:8080/"
        },
        "id": "T-8ccYqYcZrn",
        "outputId": "e2614e4b-4151-4210-d347-107227e669b3"
      },
      "execution_count": 35,
      "outputs": [
        {
          "output_type": "execute_result",
          "data": {
            "text/plain": [
              "array([152.26392304, 198.96222354, 127.66111541, 104.59596478,\n",
              "       265.23062371, 252.09467525, 112.76592254, 115.72549839,\n",
              "        96.37765691, 187.64845451, 144.9482918 , 172.110596  ,\n",
              "       178.81497695, 136.51444368, 292.15564227,  87.25795061,\n",
              "       202.18473262, 149.11155912, 132.30895031, 128.70828962,\n",
              "       148.38757935, 171.81318343, 150.93593445, 174.47559507,\n",
              "       127.76388814, 221.82234243, 199.96855698, 101.54518353,\n",
              "        54.85644772, 237.61948938, 244.2801351 , 112.91877003,\n",
              "        68.12192242,  96.00468527, 204.32975531, 163.99882781,\n",
              "       160.95172334, 191.90398957, 113.33794145, 238.46002509,\n",
              "       141.40211434, 120.45598718, 188.12639096, 186.46474321,\n",
              "       174.98259299, 143.24561624, 168.80798895, 299.18508813,\n",
              "       105.40854525, 169.51466009, 254.37509674, 142.60026818,\n",
              "       151.7158263 , 122.70403085, 191.52875115,  94.27792144,\n",
              "       129.03875584,  75.96073902, 157.91752518, 156.36603694,\n",
              "       163.20324594, 160.93274887, 102.3002858 , 227.7604113 ,\n",
              "       146.38764326, 130.09088849, 161.03126295, 192.83334912,\n",
              "       122.94795619, 126.85846035, 217.79918548, 199.2052686 ,\n",
              "       123.42023802, 154.19075213, 146.2669768 , 112.40128412,\n",
              "        80.42448582,  77.96472134, 169.32977609,  81.10892485,\n",
              "        97.26108764,  97.98086796, 179.31830771, 275.58154656,\n",
              "       206.20895128, 146.76562108, 282.5643577 , 202.33755312,\n",
              "        98.43145491])"
            ]
          },
          "metadata": {},
          "execution_count": 35
        }
      ]
    },
    {
      "cell_type": "code",
      "source": [
        "r2_score(y_test,y_pred)"
      ],
      "metadata": {
        "colab": {
          "base_uri": "https://localhost:8080/"
        },
        "id": "A_11vDC9cWUe",
        "outputId": "26b38b52-b6e0-498b-9020-8cb667cca341"
      },
      "execution_count": 36,
      "outputs": [
        {
          "output_type": "execute_result",
          "data": {
            "text/plain": [
              "0.4534503034722803"
            ]
          },
          "metadata": {},
          "execution_count": 36
        }
      ]
    }
  ]
}